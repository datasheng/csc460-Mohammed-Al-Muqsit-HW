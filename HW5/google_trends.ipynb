{
 "cells": [
  {
   "cell_type": "markdown",
   "id": "f6d1e84b",
   "metadata": {},
   "source": [
    "# Link to Datacamp\n",
    "https://www.datacamp.com/datalab/w/9e39d370-a314-4180-8a40-443123cb9f20/edit"
   ]
  },
  {
   "cell_type": "code",
   "execution_count": 2,
   "id": "19497f94",
   "metadata": {},
   "outputs": [
    {
     "data": {
      "text/html": [
       "<div>\n",
       "<style scoped>\n",
       "    .dataframe tbody tr th:only-of-type {\n",
       "        vertical-align: middle;\n",
       "    }\n",
       "\n",
       "    .dataframe tbody tr th {\n",
       "        vertical-align: top;\n",
       "    }\n",
       "\n",
       "    .dataframe thead th {\n",
       "        text-align: right;\n",
       "    }\n",
       "</style>\n",
       "<table border=\"1\" class=\"dataframe\">\n",
       "  <thead>\n",
       "    <tr style=\"text-align: right;\">\n",
       "      <th></th>\n",
       "      <th>week</th>\n",
       "      <th>chatgpt</th>\n",
       "      <th>gemini</th>\n",
       "      <th>microsoft_copilot</th>\n",
       "    </tr>\n",
       "  </thead>\n",
       "  <tbody>\n",
       "    <tr>\n",
       "      <th>0</th>\n",
       "      <td>2023-08-27</td>\n",
       "      <td>56</td>\n",
       "      <td>3</td>\n",
       "      <td>1</td>\n",
       "    </tr>\n",
       "    <tr>\n",
       "      <th>1</th>\n",
       "      <td>2023-09-03</td>\n",
       "      <td>56</td>\n",
       "      <td>3</td>\n",
       "      <td>1</td>\n",
       "    </tr>\n",
       "    <tr>\n",
       "      <th>2</th>\n",
       "      <td>2023-09-10</td>\n",
       "      <td>63</td>\n",
       "      <td>3</td>\n",
       "      <td>1</td>\n",
       "    </tr>\n",
       "    <tr>\n",
       "      <th>3</th>\n",
       "      <td>2023-09-17</td>\n",
       "      <td>64</td>\n",
       "      <td>3</td>\n",
       "      <td>1</td>\n",
       "    </tr>\n",
       "    <tr>\n",
       "      <th>4</th>\n",
       "      <td>2023-09-24</td>\n",
       "      <td>66</td>\n",
       "      <td>3</td>\n",
       "      <td>1</td>\n",
       "    </tr>\n",
       "  </tbody>\n",
       "</table>\n",
       "</div>"
      ],
      "text/plain": [
       "         week  chatgpt  gemini  microsoft_copilot\n",
       "0  2023-08-27       56       3                  1\n",
       "1  2023-09-03       56       3                  1\n",
       "2  2023-09-10       63       3                  1\n",
       "3  2023-09-17       64       3                  1\n",
       "4  2023-09-24       66       3                  1"
      ]
     },
     "execution_count": 2,
     "metadata": {},
     "output_type": "execute_result"
    }
   ],
   "source": [
    "import pandas as pd\n",
    "import matplotlib.pyplot as plt\n",
    "\n",
    "# Load the data\n",
    "trends = pd.read_csv(\"ai_tools_comparison.csv\")\n",
    "\n",
    "# Inspect the data\n",
    "trends.head()\n"
   ]
  },
  {
   "cell_type": "code",
   "execution_count": 3,
   "id": "adfd741b",
   "metadata": {},
   "outputs": [
    {
     "data": {
      "text/plain": [
       "np.int64(47)"
      ]
     },
     "execution_count": 3,
     "metadata": {},
     "output_type": "execute_result"
    }
   ],
   "source": [
    "# Start coding here\n",
    "trends[\"chatgpt\"].min()\n"
   ]
  },
  {
   "cell_type": "code",
   "execution_count": 4,
   "id": "eca0263d",
   "metadata": {},
   "outputs": [],
   "source": [
    "trends[\"week\"] = pd.to_datetime(trends[\"week\"])\n"
   ]
  },
  {
   "cell_type": "code",
   "execution_count": 5,
   "id": "f7e10fb5",
   "metadata": {},
   "outputs": [
    {
     "data": {
      "text/plain": [
       "week                 datetime64[ns]\n",
       "chatgpt                       int64\n",
       "gemini                        int64\n",
       "microsoft_copilot             int64\n",
       "dtype: object"
      ]
     },
     "execution_count": 5,
     "metadata": {},
     "output_type": "execute_result"
    }
   ],
   "source": [
    "trends.dtypes\n"
   ]
  },
  {
   "cell_type": "code",
   "execution_count": 6,
   "id": "a09a15de",
   "metadata": {},
   "outputs": [
    {
     "data": {
      "text/html": [
       "<div>\n",
       "<style scoped>\n",
       "    .dataframe tbody tr th:only-of-type {\n",
       "        vertical-align: middle;\n",
       "    }\n",
       "\n",
       "    .dataframe tbody tr th {\n",
       "        vertical-align: top;\n",
       "    }\n",
       "\n",
       "    .dataframe thead th {\n",
       "        text-align: right;\n",
       "    }\n",
       "</style>\n",
       "<table border=\"1\" class=\"dataframe\">\n",
       "  <thead>\n",
       "    <tr style=\"text-align: right;\">\n",
       "      <th></th>\n",
       "      <th>chatgpt</th>\n",
       "      <th>gemini</th>\n",
       "      <th>microsoft_copilot</th>\n",
       "    </tr>\n",
       "    <tr>\n",
       "      <th>week</th>\n",
       "      <th></th>\n",
       "      <th></th>\n",
       "      <th></th>\n",
       "    </tr>\n",
       "  </thead>\n",
       "  <tbody>\n",
       "    <tr>\n",
       "      <th>2023-08-27</th>\n",
       "      <td>56</td>\n",
       "      <td>3</td>\n",
       "      <td>1</td>\n",
       "    </tr>\n",
       "    <tr>\n",
       "      <th>2023-09-03</th>\n",
       "      <td>56</td>\n",
       "      <td>3</td>\n",
       "      <td>1</td>\n",
       "    </tr>\n",
       "    <tr>\n",
       "      <th>2023-09-10</th>\n",
       "      <td>63</td>\n",
       "      <td>3</td>\n",
       "      <td>1</td>\n",
       "    </tr>\n",
       "    <tr>\n",
       "      <th>2023-09-17</th>\n",
       "      <td>64</td>\n",
       "      <td>3</td>\n",
       "      <td>1</td>\n",
       "    </tr>\n",
       "    <tr>\n",
       "      <th>2023-09-24</th>\n",
       "      <td>66</td>\n",
       "      <td>3</td>\n",
       "      <td>1</td>\n",
       "    </tr>\n",
       "  </tbody>\n",
       "</table>\n",
       "</div>"
      ],
      "text/plain": [
       "            chatgpt  gemini  microsoft_copilot\n",
       "week                                          \n",
       "2023-08-27       56       3                  1\n",
       "2023-09-03       56       3                  1\n",
       "2023-09-10       63       3                  1\n",
       "2023-09-17       64       3                  1\n",
       "2023-09-24       66       3                  1"
      ]
     },
     "execution_count": 6,
     "metadata": {},
     "output_type": "execute_result"
    }
   ],
   "source": [
    "trends.set_index(\"week\", inplace=True)\n",
    "trends.head()\n"
   ]
  },
  {
   "cell_type": "code",
   "execution_count": 7,
   "id": "a420e1f1",
   "metadata": {},
   "outputs": [
    {
     "data": {
      "text/html": [
       "<div>\n",
       "<style scoped>\n",
       "    .dataframe tbody tr th:only-of-type {\n",
       "        vertical-align: middle;\n",
       "    }\n",
       "\n",
       "    .dataframe tbody tr th {\n",
       "        vertical-align: top;\n",
       "    }\n",
       "\n",
       "    .dataframe thead th {\n",
       "        text-align: right;\n",
       "    }\n",
       "</style>\n",
       "<table border=\"1\" class=\"dataframe\">\n",
       "  <thead>\n",
       "    <tr style=\"text-align: right;\">\n",
       "      <th></th>\n",
       "      <th>chatgpt</th>\n",
       "      <th>gemini</th>\n",
       "      <th>microsoft_copilot</th>\n",
       "    </tr>\n",
       "    <tr>\n",
       "      <th>week</th>\n",
       "      <th></th>\n",
       "      <th></th>\n",
       "      <th></th>\n",
       "    </tr>\n",
       "  </thead>\n",
       "  <tbody>\n",
       "    <tr>\n",
       "      <th>2023-08-27</th>\n",
       "      <td>NaN</td>\n",
       "      <td>NaN</td>\n",
       "      <td>NaN</td>\n",
       "    </tr>\n",
       "    <tr>\n",
       "      <th>2023-09-03</th>\n",
       "      <td>0.000000</td>\n",
       "      <td>0.0</td>\n",
       "      <td>0.0</td>\n",
       "    </tr>\n",
       "    <tr>\n",
       "      <th>2023-09-10</th>\n",
       "      <td>0.125000</td>\n",
       "      <td>0.0</td>\n",
       "      <td>0.0</td>\n",
       "    </tr>\n",
       "    <tr>\n",
       "      <th>2023-09-17</th>\n",
       "      <td>0.015873</td>\n",
       "      <td>0.0</td>\n",
       "      <td>0.0</td>\n",
       "    </tr>\n",
       "    <tr>\n",
       "      <th>2023-09-24</th>\n",
       "      <td>0.031250</td>\n",
       "      <td>0.0</td>\n",
       "      <td>0.0</td>\n",
       "    </tr>\n",
       "  </tbody>\n",
       "</table>\n",
       "</div>"
      ],
      "text/plain": [
       "             chatgpt  gemini  microsoft_copilot\n",
       "week                                           \n",
       "2023-08-27       NaN     NaN                NaN\n",
       "2023-09-03  0.000000     0.0                0.0\n",
       "2023-09-10  0.125000     0.0                0.0\n",
       "2023-09-17  0.015873     0.0                0.0\n",
       "2023-09-24  0.031250     0.0                0.0"
      ]
     },
     "execution_count": 7,
     "metadata": {},
     "output_type": "execute_result"
    }
   ],
   "source": [
    "trends_pct_change = trends.pct_change()\n",
    "trends_pct_change.fillna(0)\n",
    "trends_pct_change.head()\n"
   ]
  },
  {
   "cell_type": "code",
   "execution_count": 8,
   "id": "2f1f8aa3",
   "metadata": {},
   "outputs": [
    {
     "data": {
      "text/html": [
       "<div>\n",
       "<style scoped>\n",
       "    .dataframe tbody tr th:only-of-type {\n",
       "        vertical-align: middle;\n",
       "    }\n",
       "\n",
       "    .dataframe tbody tr th {\n",
       "        vertical-align: top;\n",
       "    }\n",
       "\n",
       "    .dataframe thead th {\n",
       "        text-align: right;\n",
       "    }\n",
       "</style>\n",
       "<table border=\"1\" class=\"dataframe\">\n",
       "  <thead>\n",
       "    <tr style=\"text-align: right;\">\n",
       "      <th></th>\n",
       "      <th>chatgpt</th>\n",
       "      <th>gemini</th>\n",
       "      <th>microsoft_copilot</th>\n",
       "    </tr>\n",
       "    <tr>\n",
       "      <th>week</th>\n",
       "      <th></th>\n",
       "      <th></th>\n",
       "      <th></th>\n",
       "    </tr>\n",
       "  </thead>\n",
       "  <tbody>\n",
       "    <tr>\n",
       "      <th>2023-08-27</th>\n",
       "      <td>NaN</td>\n",
       "      <td>NaN</td>\n",
       "      <td>NaN</td>\n",
       "    </tr>\n",
       "    <tr>\n",
       "      <th>2023-09-03</th>\n",
       "      <td>0.000000</td>\n",
       "      <td>0.0</td>\n",
       "      <td>0.0</td>\n",
       "    </tr>\n",
       "    <tr>\n",
       "      <th>2023-09-10</th>\n",
       "      <td>12.500000</td>\n",
       "      <td>0.0</td>\n",
       "      <td>0.0</td>\n",
       "    </tr>\n",
       "    <tr>\n",
       "      <th>2023-09-17</th>\n",
       "      <td>1.587302</td>\n",
       "      <td>0.0</td>\n",
       "      <td>0.0</td>\n",
       "    </tr>\n",
       "    <tr>\n",
       "      <th>2023-09-24</th>\n",
       "      <td>3.125000</td>\n",
       "      <td>0.0</td>\n",
       "      <td>0.0</td>\n",
       "    </tr>\n",
       "  </tbody>\n",
       "</table>\n",
       "</div>"
      ],
      "text/plain": [
       "              chatgpt  gemini  microsoft_copilot\n",
       "week                                            \n",
       "2023-08-27        NaN     NaN                NaN\n",
       "2023-09-03   0.000000     0.0                0.0\n",
       "2023-09-10  12.500000     0.0                0.0\n",
       "2023-09-17   1.587302     0.0                0.0\n",
       "2023-09-24   3.125000     0.0                0.0"
      ]
     },
     "execution_count": 8,
     "metadata": {},
     "output_type": "execute_result"
    }
   ],
   "source": [
    "trends_pct_change_percent = trends_pct_change.mul(100)\n",
    "trends_pct_change_percent.head()\n"
   ]
  },
  {
   "cell_type": "code",
   "execution_count": 9,
   "id": "399082b1",
   "metadata": {},
   "outputs": [
    {
     "data": {
      "text/plain": [
       "'chatgpt'"
      ]
     },
     "execution_count": 9,
     "metadata": {},
     "output_type": "execute_result"
    }
   ],
   "source": [
    "# Calculate standard deviation of percentage change (growth rates) for each tool\n",
    "std_devs = trends_pct_change_percent.std()\n",
    "\n",
    "# Find the tool with the lowest standard deviation (most consistent)\n",
    "most_consistent_tool = std_devs[std_devs == std_devs.min()].index[0]\n",
    "\n",
    "most_consistent_tool\n"
   ]
  },
  {
   "cell_type": "code",
   "execution_count": 10,
   "id": "bd6fc707",
   "metadata": {},
   "outputs": [],
   "source": [
    "# Create a copy of the original trends DataFrame\n",
    "trends_raw = trends.copy()\n"
   ]
  },
  {
   "cell_type": "code",
   "execution_count": 11,
   "id": "3cf2cfcf",
   "metadata": {},
   "outputs": [
    {
     "data": {
      "text/plain": [
       "<Axes: title={'center': 'Interest Levels Over Time'}, xlabel='week'>"
      ]
     },
     "execution_count": 11,
     "metadata": {},
     "output_type": "execute_result"
    },
    {
     "data": {
      "image/png": "[encoded data removed]",
      "text/plain": [
       "<Figure size 1000x600 with 1 Axes>"
      ]
     },
     "metadata": {},
     "output_type": "display_data"
    }
   ],
   "source": [
    "trends.plot(figsize=(10, 6), title=\"Interest Levels Over Time\")\n"
   ]
  },
  {
   "cell_type": "code",
   "execution_count": 12,
   "id": "d5fa1a4f",
   "metadata": {},
   "outputs": [
    {
     "data": {
      "text/plain": [
       "'December 2023'"
      ]
     },
     "execution_count": 12,
     "metadata": {},
     "output_type": "execute_result"
    }
   ],
   "source": [
    "# Find the index (date) of the lowest point for ChatGPT\n",
    "lowest_idx = trends[\"chatgpt\"].idxmin()\n",
    "\n",
    "# Format the date as \"Month YYYY\"\n",
    "gpt_dip = lowest_idx.strftime(\"%B %Y\")\n",
    "\n",
    "gpt_dip\n"
   ]
  },
  {
   "cell_type": "code",
   "execution_count": 16,
   "id": "8addf983",
   "metadata": {},
   "outputs": [
    {
     "data": {
      "text/plain": [
       "'May'"
      ]
     },
     "execution_count": 16,
     "metadata": {},
     "output_type": "execute_result"
    }
   ],
   "source": [
    "# Resample the original trends data to monthly averages\n",
    "monthly_avg = trends.resample(\"ME\").mean()\n",
    "\n",
    "# Calculate the average interest across all tools for each month\n",
    "monthly_avg[\"all_tools_avg\"] = monthly_avg.mean(axis=1)\n",
    "\n",
    "# Find the month with the highest average interest\n",
    "best_month = monthly_avg[\"all_tools_avg\"].idxmax().strftime(\"%B\")\n",
    "\n",
    "best_month\n"
   ]
  },
  {
   "cell_type": "code",
   "execution_count": null,
   "id": "883b5cc5",
   "metadata": {},
   "outputs": [],
   "source": []
  }
 ],
 "metadata": {
  "kernelspec": {
   "display_name": "venv (3.12.3)",
   "language": "python",
   "name": "python3"
  },
  "language_info": {
   "codemirror_mode": {
    "name": "ipython",
    "version": 3
   },
   "file_extension": ".py",
   "mimetype": "text/x-python",
   "name": "python",
   "nbconvert_exporter": "python",
   "pygments_lexer": "ipython3",
   "version": "3.12.3"
  }
 },
 "nbformat": 4,
 "nbformat_minor": 5
}
